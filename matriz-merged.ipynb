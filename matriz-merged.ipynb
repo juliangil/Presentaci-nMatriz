{
 "cells": [
  {
   "cell_type": "markdown",
   "metadata": {
    "slideshow": {
     "slide_type": "slide"
    }
   },
   "source": [
    "# Matriz de Flexibilidad "
   ]
  },
  {
   "cell_type": "markdown",
   "metadata": {
    "slideshow": {
     "slide_type": "slide"
    }
   },
   "source": [
    "## Temas\n",
    "* Introducción\n",
    "  - Objetivo\n",
    "    + Objetivo secundario\n",
    "  - Participantes\n",
    "  - Problema\n",
    "    + Inconvenientes Actuales\n",
    "    + Solución Planteada"
   ]
  },
  {
   "cell_type": "markdown",
   "metadata": {
    "slideshow": {
     "slide_type": "subslide"
    }
   },
   "source": [
    "* Desarrollo\n",
    "  - Arquitectura\n",
    "    + Esquema Principal\n",
    "    + Arquitectura por capas\n",
    "  - Front-end\n",
    "    + JSX\n",
    "    + ES6\n",
    "    + BABEL\n",
    "    + WEBPACK\n",
    "    + REACT\n",
    "    + REDUX"
   ]
  },
  {
   "cell_type": "markdown",
   "metadata": {
    "slideshow": {
     "slide_type": "subslide"
    }
   },
   "source": [
    "- Back-end\n",
    "    + Rutas (Capa de Servicio)\n",
    "    + Modelo\n",
    "    + Capa de datos\n",
    "- Interfaz de usuario\n",
    "    + Login\n",
    "    + Seccion Empleado\n",
    "    + Seccion Administrador\n",
    "- Planes a Futuro\n",
    "    + En proceso\n",
    "    + Lo que falta\n",
    "- Conclusiones"
   ]
  },
  {
   "cell_type": "markdown",
   "metadata": {
    "collapsed": true,
    "slideshow": {
     "slide_type": "slide"
    }
   },
   "source": [
    "## Introducción"
   ]
  },
  {
   "cell_type": "markdown",
   "metadata": {
    "slideshow": {
     "slide_type": "subslide"
    }
   },
   "source": [
    "### Objetivo"
   ]
  },
  {
   "cell_type": "markdown",
   "metadata": {
    "slideshow": {
     "slide_type": "-"
    }
   },
   "source": [
    "Mejora de la experiencia del usuario de la Matriz de Flexibilidad, para cada perfil existente, mediante una solución provista por el área de I+D."
   ]
  },
  {
   "cell_type": "markdown",
   "metadata": {
    "slideshow": {
     "slide_type": "fragment"
    }
   },
   "source": [
    "#### Objetivo secundario\n",
    "Capacitación sobre tecnologías Javascript, aplicación de arquitecturas full stack junto con bases de datos relacionales, y en particular, la tecnología de front-end React.js "
   ]
  },
  {
   "cell_type": "markdown",
   "metadata": {
    "slideshow": {
     "slide_type": "subslide"
    }
   },
   "source": [
    "### Participantes"
   ]
  },
  {
   "cell_type": "markdown",
   "metadata": {},
   "source": [
    "- Esteban Bellegarde (desarrollador)\n",
    "- Julián Andrés Gil Santos (desarrollador)\n",
    "- Nicole Allegri (DG)\n",
    "- Ciro Romero (testing)\n",
    "- Leandro Ferrigno (líder técnico)\n",
    "- Ana corradi (líder DG)"
   ]
  },
  {
   "cell_type": "markdown",
   "metadata": {
    "slideshow": {
     "slide_type": "subslide"
    }
   },
   "source": [
    "### Dominio"
   ]
  },
  {
   "cell_type": "markdown",
   "metadata": {},
   "source": [
    "- Matriz: Archivo de Excel\n",
    "- Proceso: \n",
    "    1. Gerente (a partir de ahora, \"administrador\") envía notificación y archivo adjunto (mail) al empleado.\n",
    "    2. El empleado lo completa y lo devuelve al administrador.\n",
    "    3. El administrador, en caso de que haya enviado la solicitud a más de un empleado, los junta en un solo archivo del mismo formato."
   ]
  },
  {
   "cell_type": "markdown",
   "metadata": {
    "slideshow": {
     "slide_type": "subslide"
    }
   },
   "source": [
    "#### Inconvenientes actuales\n",
    "\n",
    "- Facilidad para equivocarse.\n",
    "- Proceso engorroso tanto para el administrador como para el empleado que completa el archivo en primera instancia."
   ]
  },
  {
   "cell_type": "markdown",
   "metadata": {
    "slideshow": {
     "slide_type": "fragment"
    }
   },
   "source": [
    "#### Solución planteada"
   ]
  },
  {
   "cell_type": "markdown",
   "metadata": {},
   "source": [
    "Se propone una aplicación web, rediseñando y optimizando el flujo del proceso y experiencia del usuario."
   ]
  },
  {
   "cell_type": "markdown",
   "metadata": {
    "collapsed": true,
    "slideshow": {
     "slide_type": "slide"
    }
   },
   "source": [
    "## Desarrollo"
   ]
  },
  {
   "cell_type": "markdown",
   "metadata": {
    "slideshow": {
     "slide_type": "fragment"
    }
   },
   "source": [
    "### Arquitectura"
   ]
  },
  {
   "cell_type": "markdown",
   "metadata": {
    "slideshow": {
     "slide_type": "subslide"
    }
   },
   "source": [
    "#### Esquema principal:\n",
    "\n",
    "<img align=\"center\" src=\"img/MatrizFlexibilidad.png\",width=850,height=850>"
   ]
  },
  {
   "cell_type": "markdown",
   "metadata": {
    "slideshow": {
     "slide_type": "subslide"
    }
   },
   "source": [
    "#### Arquitectura por capas:\n",
    "\n",
    "<img align=\"center\" src=\"img/arquitectura.png\",width=850,height=850>"
   ]
  },
  {
   "cell_type": "markdown",
   "metadata": {
    "slideshow": {
     "slide_type": "subslide"
    }
   },
   "source": [
    "### Front-end"
   ]
  },
  {
   "cell_type": "markdown",
   "metadata": {
    "slideshow": {
     "slide_type": "subslide"
    }
   },
   "source": [
    "\n",
    "<img align=\"center\" src=\"img/tecnologias/jsx.png\", width=300,height=300> \n",
    "\n",
    "- Pseudolenguaje.\n",
    "- Facilita el desarrollo de aplicaciones web con su sintaxis para crear elementos en el DOM. \n",
    "- En el React, es utilizado como una forma de renderizar los componentes, ya que su sintaxis es similar a la de HTML. \n"
   ]
  },
  {
   "cell_type": "code",
   "execution_count": null,
   "metadata": {
    "collapsed": true,
    "slideshow": {
     "slide_type": "subslide"
    }
   },
   "outputs": [],
   "source": [
    "<div>        \n",
    "    <Dialog\n",
    "        actions={actions}\n",
    "        modal={false}\n",
    "        open={this.state.open}\n",
    "        onRequestClose={this.handleClose}\n",
    "    >\n",
    "        ¿Eliminar el idioma {this.props.nombre}?\n",
    "    </Dialog>\n",
    "</Div>"
   ]
  },
  {
   "cell_type": "markdown",
   "metadata": {
    "slideshow": {
     "slide_type": "subslide"
    }
   },
   "source": [
    "\n",
    "<img align=\"center\" src=\"img/tecnologias/es6.jpg\",width=600,height=600>\n",
    "\n",
    "- Estándar de ***Javascript***. \n",
    "- Trae consigo nuevas funcionalidades: (Arrow Functions, clases, *const* y *let* para la declaración de variables, nueva sintaxis para manejo de módulos, etc)"
   ]
  },
  {
   "cell_type": "code",
   "execution_count": null,
   "metadata": {
    "collapsed": true,
    "slideshow": {
     "slide_type": "subslide"
    }
   },
   "outputs": [],
   "source": [
    "class FormacionDialog extends React.Component{\n",
    "\n",
    "  constructor({ open = false, mensaje}){\n",
    "    super()\n",
    "    this.state = {\n",
    "      open: open,\n",
    "    }\n",
    "    this.mensaje = mensaje\n",
    "  }\n",
    "    \n",
    "    render(){\n",
    "        return(\n",
    "            <div>\n",
    "                Muestro un diálogo\n",
    "                <Dialog open={this.state.open}>\n",
    "                    {this.mensaje}\n",
    "                </Dialog>\n",
    "            </div>\n",
    "        )\n",
    "    }\n",
    "}"
   ]
  },
  {
   "cell_type": "markdown",
   "metadata": {
    "slideshow": {
     "slide_type": "subslide"
    }
   },
   "source": [
    "\n",
    "<img align=\"center\" src=\"img/tecnologias/babel.png\", width=300,height=300, text-align= justify, text-justify= inter-word> \n",
    "\n",
    "- Es un *transpilador* (traduce el código de un lenguaje a otro) \n",
    "- Se transpiló de JSX y ES6 (no son soportados por el navegador) a ES5."
   ]
  },
  {
   "cell_type": "markdown",
   "metadata": {
    "slideshow": {
     "slide_type": "subslide"
    }
   },
   "source": [
    "#### Webpack\n",
    "\n",
    "<img align=\"center\" src=\"img/tecnologias/what-is-webpack.png\",width=600,height=600>\n",
    "\n",
    "- Es un module bundler (*empaquetador de módulos*)\n",
    "- Muy eficiente para aplicaciones grandes que contienen mucho código JavaScript\n",
    "- Levanta la app en un server\n"
   ]
  },
  {
   "cell_type": "markdown",
   "metadata": {
    "slideshow": {
     "slide_type": "subslide"
    }
   },
   "source": [
    "<img align=\"center\" src=\"img/arquitectura-react.png\",width=850,height=850>"
   ]
  },
  {
   "cell_type": "markdown",
   "metadata": {
    "slideshow": {
     "slide_type": "subslide"
    }
   },
   "source": [
    "\n",
    "<img align=\"center\" src=\"img/tecnologias/react_js.png\",width=600,height=600>\n",
    "\n",
    "- Librería Javascript de código abierto, que sirve como herramienta para implementar la vista. \n",
    "- Desarrollada por Facebook. \n",
    "- Aplicaciones en una sola página. "
   ]
  },
  {
   "cell_type": "markdown",
   "metadata": {
    "slideshow": {
     "slide_type": "subslide"
    }
   },
   "source": [
    "<img align=\"center\" src=\"img/arquitectura-redux.png\",width=850,height=850>"
   ]
  },
  {
   "cell_type": "markdown",
   "metadata": {
    "slideshow": {
     "slide_type": "subslide"
    }
   },
   "source": [
    "\n",
    "<img align=\"center\" src=\"img/tecnologias/redux.png\", width=300,height=300> \n",
    "\n",
    "- Su predecesor es Flux.\n",
    "- Su definicion formal: *Contenedor de estados predecibles para aplicaciones javascript*. \n",
    "- Se utiliza con React. Encapsula el estado de la aplicación, el comportamiento de la vista, y su comunicación con el back-end.\n"
   ]
  },
  {
   "cell_type": "markdown",
   "metadata": {
    "slideshow": {
     "slide_type": "subslide"
    }
   },
   "source": [
    "## Back - End"
   ]
  },
  {
   "cell_type": "markdown",
   "metadata": {
    "slideshow": {
     "slide_type": "subslide"
    }
   },
   "source": [
    "<img align=\"center\" src=\"img/arquitectura-express.png\",width=850,height=850>"
   ]
  },
  {
   "cell_type": "markdown",
   "metadata": {
    "slideshow": {
     "slide_type": "subslide"
    }
   },
   "source": [
    "### Rutas (capa de servicio)\n",
    "\n",
    "<img align=\"center\" src=\"img/tecnologias/node-restful-api.png\", width=300,height=300> \n",
    "\n",
    "Usando **Express**, framework para Node.js, se levanta un server de backend y se especifica el comportamiento para cada petición HTTP recibida. "
   ]
  },
  {
   "cell_type": "markdown",
   "metadata": {
    "slideshow": {
     "slide_type": "subslide"
    }
   },
   "source": [
    "<img align=\"center\" src=\"img/arquitectura-models.png\",width=850,height=850>"
   ]
  },
  {
   "cell_type": "markdown",
   "metadata": {
    "slideshow": {
     "slide_type": "subslide"
    }
   },
   "source": [
    "### Modelo"
   ]
  },
  {
   "cell_type": "code",
   "execution_count": null,
   "metadata": {
    "collapsed": true,
    "slideshow": {
     "slide_type": "-"
    }
   },
   "outputs": [],
   "source": [
    "module.exports = function(sequelize, DataTypes) {\n",
    "  var Carrera = sequelize.define(\n",
    "    'Carrera',\n",
    "  {\n",
    "    idCarrera: {\n",
    "        type: DataTypes.INTEGER,\n",
    "        primaryKey: true\n",
    "    },\n",
    "    nombre: DataTypes.STRING\n",
    "  },{\n",
    "    timestamps  : false,\n",
    "    underscored : true,\n",
    "    tableName: 'carreras',\n",
    "    classMethods: {\n",
    "      associate: function(models) {\n",
    "        // relaciones entre tablas\n",
    "        Carrera.hasMany(models.Estudio, {as: 'estudios', foreignKey : 'idEstudiosUniversitarios'});\n",
    "      }\n",
    "    }\n",
    "  });\n",
    "  return Carrera;\n",
    "};"
   ]
  },
  {
   "cell_type": "markdown",
   "metadata": {
    "slideshow": {
     "slide_type": "subslide"
    }
   },
   "source": [
    "<img align=\"center\" src=\"img/arquitectura-data.png\",width=850,height=850>"
   ]
  },
  {
   "cell_type": "markdown",
   "metadata": {
    "slideshow": {
     "slide_type": "subslide"
    }
   },
   "source": [
    "### Capa de datos\n",
    "\n",
    "<img align=\"center\" src=\"img/tecnologias/sequelize.png\", width=600,height=600> \n",
    "\n",
    "- Es un *ORM* para Node js. \n",
    "- Soporta los motores de PostgreSQL, MySQL, MariaDB, SQLite y MSSQ. \n",
    "- Facilita el acceso a datos para el programador - CRUD. \n",
    "- Sequelize implementa *raw queries*, las cuales permite realizar SQL queries de forma fácil."
   ]
  },
  {
   "cell_type": "markdown",
   "metadata": {
    "slideshow": {
     "slide_type": "subslide"
    }
   },
   "source": [
    "<img align=\"center\" src=\"img/arquitectura-DB.png\",width=850,height=850>"
   ]
  },
  {
   "cell_type": "markdown",
   "metadata": {
    "slideshow": {
     "slide_type": "slide"
    }
   },
   "source": [
    "## Interfaz de usuario"
   ]
  },
  {
   "cell_type": "markdown",
   "metadata": {
    "slideshow": {
     "slide_type": "subslide"
    }
   },
   "source": [
    "Se comienza desde una pantalla de login, la cual está vinculada al servicio de LDAP de la base de usuarios de la empresa\n",
    "\n",
    "<img align=\"center\" src=\"img/matriz-login.png\",width=480,height=480>\n",
    "\n",
    "Ir: http://10.2.1.69/"
   ]
  },
  {
   "cell_type": "markdown",
   "metadata": {
    "collapsed": true,
    "slideshow": {
     "slide_type": "subslide"
    }
   },
   "source": [
    "Se dividió la aplicación en dos secciones, correspondientes a cada perfil:\n",
    "\n",
    "- Empleado\n",
    "- Administrador (el administrador tiene todas las funcionalidades de Empleado)"
   ]
  },
  {
   "cell_type": "markdown",
   "metadata": {
    "slideshow": {
     "slide_type": "subslide"
    }
   },
   "source": [
    "#### Sección Empleado\n",
    "\n",
    "Es la sección de carga de datos del negocio, del empleado autenticado en particular. Se divide en cuatro sub-secciones:\n",
    "\n",
    "- Estudios\n",
    "- Conocimientos en Ingeniería de Software\n",
    "- Experiencia docente en Ingeniería de Software\n",
    "- Idiomas\n",
    "    \n",
    "Ir: http://10.2.1.69/index/carga"
   ]
  },
  {
   "cell_type": "markdown",
   "metadata": {
    "slideshow": {
     "slide_type": "subslide"
    }
   },
   "source": [
    "#### Conocimientos en Ingeniería de Software\n",
    "\n",
    "<img align=\"center\" src=\"img/matriz-conocimientos.png\",width=850,height=850>"
   ]
  },
  {
   "cell_type": "markdown",
   "metadata": {
    "slideshow": {
     "slide_type": "subslide"
    }
   },
   "source": [
    "#### Experiencia docente\n",
    "\n",
    "<img align=\"center\" src=\"img/matriz-exp_docente.png\",width=850,height=850>"
   ]
  },
  {
   "cell_type": "markdown",
   "metadata": {
    "slideshow": {
     "slide_type": "subslide"
    }
   },
   "source": [
    "#### Experiencia docente - categorías\n",
    "\n",
    "<img align=\"center\" src=\"img/matriz-exp_docente2.png\",width=850,height=850>"
   ]
  },
  {
   "cell_type": "markdown",
   "metadata": {
    "slideshow": {
     "slide_type": "subslide"
    }
   },
   "source": [
    "#### Idiomas\n",
    "\n",
    "<img align=\"center\" src=\"img/matriz-exp_idiomas.png\",width=850,height=850>"
   ]
  },
  {
   "cell_type": "markdown",
   "metadata": {
    "slideshow": {
     "slide_type": "subslide"
    }
   },
   "source": [
    "#### Cargar un idioma\n",
    "\n",
    "<img align=\"center\" src=\"img/matriz-exp_idiomas_carga.png\",width=850,height=850>"
   ]
  },
  {
   "cell_type": "markdown",
   "metadata": {
    "slideshow": {
     "slide_type": "subslide"
    }
   },
   "source": [
    "#### Sección Administrador\n",
    "\n",
    "Es la sección de ABM de campos para luego ser llenados por los empleados\n",
    "\n",
    "- Conocimientos en Ingeniería de Software\n",
    "- Experiencia docente en Ingeniería de Software\n",
    "    \n",
    "Además, podemos generar reportes\n",
    "\n",
    "Ir: http://10.2.1.69/index/panelAdministrador"
   ]
  },
  {
   "cell_type": "markdown",
   "metadata": {
    "slideshow": {
     "slide_type": "subslide"
    }
   },
   "source": [
    "#### Panel de administrador\n",
    "\n",
    "<img align=\"center\" src=\"img/matriz-admin.png\",width=850,height=850>"
   ]
  },
  {
   "cell_type": "markdown",
   "metadata": {
    "slideshow": {
     "slide_type": "subslide"
    }
   },
   "source": [
    "#### Menú - pantalla grande"
   ]
  },
  {
   "cell_type": "markdown",
   "metadata": {
    "slideshow": {
     "slide_type": "-"
    }
   },
   "source": [
    "<img align=\"center\" src=\"img/menu-big.png\",width=850,height=850>"
   ]
  },
  {
   "cell_type": "markdown",
   "metadata": {
    "slideshow": {
     "slide_type": "subslide"
    }
   },
   "source": [
    "#### Menú - pantalla chica"
   ]
  },
  {
   "cell_type": "markdown",
   "metadata": {
    "slideshow": {
     "slide_type": "-"
    }
   },
   "source": [
    "<img align=\"center\" src=\"img/menu-mini.png\",width=480,height=480>"
   ]
  },
  {
   "cell_type": "markdown",
   "metadata": {
    "slideshow": {
     "slide_type": "slide"
    }
   },
   "source": [
    "## Planes a futuro"
   ]
  },
  {
   "cell_type": "markdown",
   "metadata": {
    "slideshow": {
     "slide_type": "subslide"
    }
   },
   "source": [
    "#### En proceso"
   ]
  },
  {
   "cell_type": "markdown",
   "metadata": {},
   "source": [
    "- Testing (back-end, más que nada)"
   ]
  },
  {
   "cell_type": "markdown",
   "metadata": {
    "slideshow": {
     "slide_type": "fragment"
    }
   },
   "source": [
    "#### Lo que falta"
   ]
  },
  {
   "cell_type": "markdown",
   "metadata": {
    "slideshow": {
     "slide_type": "fragment"
    }
   },
   "source": [
    "- Migración de datos\n",
    "\n",
    "<img align=\"center\" src=\"img/migracion.jpg\",width=380,height=380>"
   ]
  },
  {
   "cell_type": "markdown",
   "metadata": {
    "slideshow": {
     "slide_type": "subslide"
    }
   },
   "source": [
    "- Migración de MySQL a MongoDB\n",
    "\n",
    "<img align=\"center\" src=\"img/migracionDB.jpg\",width=564,height=564>"
   ]
  },
  {
   "cell_type": "markdown",
   "metadata": {},
   "source": [
    "- Deploy a produccion"
   ]
  },
  {
   "cell_type": "markdown",
   "metadata": {
    "slideshow": {
     "slide_type": "slide"
    }
   },
   "source": [
    "## Conclusiones"
   ]
  },
  {
   "cell_type": "markdown",
   "metadata": {
    "slideshow": {
     "slide_type": "subslide"
    }
   },
   "source": [
    "* Usar tecnologías Javascript puede traer ventajas:\n",
    "  + Alto rendimiento\n",
    "  + Rápido renderizado, al usar el concepto de DOM Virtual.\n",
    "  + Alta escalabilidad\n",
    "  + Buena modularización, gracias a la arquitectura que brinda Redux."
   ]
  },
  {
   "cell_type": "markdown",
   "metadata": {
    "slideshow": {
     "slide_type": "subslide"
    }
   },
   "source": [
    "* Como tambien algunas desventajas: \n",
    "  + Curva de aprendizaje lenta\n",
    "  + Tiempo de desarrollo\n",
    "  + Muchas librerías y tecnologías diferentes, lo que requiere una buena investigación previa antes de desarrollar."
   ]
  },
  {
   "cell_type": "markdown",
   "metadata": {
    "slideshow": {
     "slide_type": "subslide"
    }
   },
   "source": [
    "* Se tuvo interacción con nuevas tecnologías de desarrollo web, generando un plus a C&S para futuros desarrollos o capacitaciones."
   ]
  },
  {
   "cell_type": "markdown",
   "metadata": {
    "slideshow": {
     "slide_type": "slide"
    }
   },
   "source": [
    "## ¿Preguntas?"
   ]
  },
  {
   "cell_type": "markdown",
   "metadata": {
    "slideshow": {
     "slide_type": "slide"
    }
   },
   "source": [
    "## ¡Gracias!"
   ]
  }
 ],
 "metadata": {
  "celltoolbar": "Slideshow",
  "kernelspec": {
   "display_name": "Javascript (Node.js)",
   "language": "javascript",
   "name": "javascript"
  },
  "language_info": {
   "file_extension": ".js",
   "mimetype": "application/javascript",
   "name": "javascript",
   "version": "6.9.5"
  }
 },
 "nbformat": 4,
 "nbformat_minor": 0
}
