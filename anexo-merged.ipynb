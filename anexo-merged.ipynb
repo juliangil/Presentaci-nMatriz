{
 "cells": [
  {
   "cell_type": "markdown",
   "metadata": {
    "slideshow": {
     "slide_type": "slide"
    }
   },
   "source": [
    "# Anexo de Títulos\n"
   ]
  },
  {
   "cell_type": "markdown",
   "metadata": {
    "slideshow": {
     "slide_type": "slide"
    }
   },
   "source": [
    "## Temas\n",
    "* Introducción\n",
    "  - ¿Qué hace?\n",
    "* ¿Qué hay por el momento?  \n",
    "* Aspectos por los cuales mejorar\n",
    "* Objetivos\n",
    "* Solución propuesta\n",
    "  - Arquitectura a desarrollar\n",
    "  - ¿Qué se ha hecho? - Reuniones\n",
    "* Planes a corto plazo\n",
    "* ¿Preguntas?"
   ]
  },
  {
   "cell_type": "markdown",
   "metadata": {
    "slideshow": {
     "slide_type": "slide"
    }
   },
   "source": [
    "## Introducción\n",
    "\n",
    "- Cliente: Ministerio de Educación del GCBA. \n",
    "- Tiene funciones *técnico-pedagógicas* para determinar la competencia y calidad de los títulos requeridos para el ejercicio de la docencia en las escuelas dependientes de dicho Ministerio. \n",
    "- Cada año se da a conocer uno nuevo, actualizado, el cual tiene validez con la firma del ministro de educación."
   ]
  },
  {
   "cell_type": "markdown",
   "metadata": {
    "slideshow": {
     "slide_type": "subslide"
    }
   },
   "source": [
    "### ¿Qué hace?\n",
    "\n",
    "* Búsqueda de títulos, según criterios varios.\n",
    "* Muestra de puntajes de títulos para determinados cargos docentes.\n",
    "* Asignación de puntajes a títulos, para determinados cargos docentes, teniendo en cuenta ciertas combinaciones entre otros títulos, demás aptitudes, y el cargo en sí.\n",
    "* Carga de nuevos títulos"
   ]
  },
  {
   "cell_type": "markdown",
   "metadata": {
    "slideshow": {
     "slide_type": "slide"
    }
   },
   "source": [
    "## ¿Qué hay por el momento?\n"
   ]
  },
  {
   "cell_type": "markdown",
   "metadata": {
    "slideshow": {
     "slide_type": "-"
    }
   },
   "source": [
    "- Archivo de Microsoft Access:\n",
    "  - Modelo de base de datos\n",
    "  - Aplicación en Visual Basic\n",
    "  - Interfaz de usuario en Access"
   ]
  },
  {
   "cell_type": "markdown",
   "metadata": {
    "slideshow": {
     "slide_type": "subslide"
    }
   },
   "source": [
    "Pantalla principal actual\n",
    "\n",
    "<div style=\"text-align: center\"> \n",
    "    <img align=\"center\" src=\"img/acces.png\",width=700,height=700, style=\" margin-top: 10px\" >\n",
    "</div>"
   ]
  },
  {
   "cell_type": "markdown",
   "metadata": {
    "slideshow": {
     "slide_type": "slide"
    }
   },
   "source": [
    "## Aspectos por los cuales mejorar\n",
    "\n",
    "* La herramienta en la que está desarrollado (Microsoft Access), lo hace poco mantenible, poco escalable, y difícil de usar.\n",
    "* Mucha información en pantalla, lo que lo hace difícil de entender.\n",
    "* Se tiene que realizar una migración del archivo a una base de datos relacional para que Clasificación Docente pueda usar ésta información."
   ]
  },
  {
   "cell_type": "markdown",
   "metadata": {
    "slideshow": {
     "slide_type": "subslide"
    }
   },
   "source": [
    "Ejemplo sobre la carga de títulos:\n",
    "\n",
    "<div style=\"text-align: center\"> \n",
    "    <img align=\"center\" src=\"img/access-carga_de_datos.png\",width=700,height=700>\n",
    "</div>"
   ]
  },
  {
   "cell_type": "markdown",
   "metadata": {
    "slideshow": {
     "slide_type": "slide"
    }
   },
   "source": [
    "## Objetivos\n",
    "\n",
    "* Actualizar la tecnología y mejorar la interfaz de usuario meidante nuevas herramientas de visualización (framaworks) para hacerlo amigable y dinámico.\n",
    "* Separar las responsabilidades del sistema de Clasificación Docente (calculador de puntajes, ya desarrollado).\n",
    "* Implementar una arquitectura para hacerlo sostenible y escalable."
   ]
  },
  {
   "cell_type": "markdown",
   "metadata": {
    "slideshow": {
     "slide_type": "subslide"
    }
   },
   "source": [
    "## Solución propuesta"
   ]
  },
  {
   "cell_type": "markdown",
   "metadata": {
    "slideshow": {
     "slide_type": "fragment"
    }
   },
   "source": [
    "* Aplicación web que gestione y administre el *Anexo de Títulos*\n",
    "- Debe, además consumir datos del Sistema de Clasificación Docente\n",
    "- Se reemplaza por completo el access que se tiene actualmente."
   ]
  },
  {
   "cell_type": "markdown",
   "metadata": {
    "slideshow": {
     "slide_type": "subslide"
    }
   },
   "source": [
    "- Al momento: \n",
    "  - Modelo de dominio desarrollado en Node.js - Sequelize\n",
    "  - Modelo de datos en MySQL\n",
    "  - Pruebas unitarias"
   ]
  },
  {
   "cell_type": "markdown",
   "metadata": {
    "slideshow": {
     "slide_type": "subslide"
    }
   },
   "source": [
    "### Arquitectura a desarrollar\n",
    "\n",
    "* Front-end (React.js)\n",
    "* Capa de servicio (Node.js - Express)\n",
    "\n",
    "** También, de ser necesario, se trabajará sobre el modelo de dominio y de datos. **\n"
   ]
  },
  {
   "cell_type": "markdown",
   "metadata": {
    "slideshow": {
     "slide_type": "slide"
    }
   },
   "source": [
    "\n",
    "### ¿Qué se ha hecho? - Reuniones\n",
    "\n",
    "* Identificación del problema, modelo de negocio y planteo de soluciones.\n",
    "  + *Participantes (Nicole Allegri, Ana Corradi, Leandro Ferrigno, Rodrigo Luna, Esteban Bellegarde y Julian Gil Santos)*"
   ]
  },
  {
   "cell_type": "markdown",
   "metadata": {
    "slideshow": {
     "slide_type": "fragment"
    }
   },
   "source": [
    "+ **Primera reunión:** en la que se contextualiza el funcionamiento de Anexo y Calificación Docente.\n",
    "    + *Se identifica el problema actual.*\n",
    "    + *Se identifica requisitos y funcionalidades de Anexo (Carga y Busqueda de datos).*\n",
    "    "
   ]
  },
  {
   "cell_type": "markdown",
   "metadata": {
    "slideshow": {
     "slide_type": "subslide"
    }
   },
   "source": [
    "  + **Segunda reunión:** Diseño de vistas.\n",
    "    - Vista principal\n",
    "    - Carga de puntajes de un título para cargos.\n",
    "  "
   ]
  },
  {
   "cell_type": "markdown",
   "metadata": {
    "slideshow": {
     "slide_type": "subslide"
    }
   },
   "source": [
    "#### Primera aproximación  \n",
    "  \n",
    "<div style=\"text-align: center\"> \n",
    "    <img align=\"center\" src=\"img/anexo-puntajes.jpg\", width=700, height=700, style=\" margin-top: 10px\" >\n",
    "</div>"
   ]
  },
  {
   "cell_type": "markdown",
   "metadata": {
    "slideshow": {
     "slide_type": "subslide"
    }
   },
   "source": [
    "  + **Tercera reunión:** Se plantean mejoras sobre la UI propuesta para la carga de puntajes para los títulos."
   ]
  },
  {
   "cell_type": "markdown",
   "metadata": {
    "slideshow": {
     "slide_type": "subslide"
    }
   },
   "source": [
    "  + **Cuarta reunión:** Kick Off.\n",
    "  <img align=\"center\" src=\"img/cuartaReunion1.jpg\", width=600, height=600, style=\" margin-top: 10px\" >\n",
    "    - User Story Mapping.\n",
    "    - Organización - Modulos principales.\n",
    "    - Identificación de funcionabilidades principales (ABM's, Búsquedas, Cargas).\n",
    "  "
   ]
  },
  {
   "cell_type": "markdown",
   "metadata": {
    "collapsed": true,
    "slideshow": {
     "slide_type": "subslide"
    }
   },
   "source": [
    "  <img align=\"center\" src=\"img/prototipo-01.jpg\", width=600, height=600, style=\" margin-top: 10px\" >"
   ]
  },
  {
   "cell_type": "markdown",
   "metadata": {
    "collapsed": true,
    "slideshow": {
     "slide_type": "subslide"
    }
   },
   "source": [
    "  <img align=\"center\" src=\"img/prototipo-02.jpg\", width=600, height=600, style=\" margin-top: 10px\" >"
   ]
  },
  {
   "cell_type": "markdown",
   "metadata": {
    "collapsed": true,
    "slideshow": {
     "slide_type": "subslide"
    }
   },
   "source": [
    "  <img align=\"center\" src=\"img/prototipo-03.jpg\", width=600, height=600, style=\" margin-top: 10px\" >"
   ]
  },
  {
   "cell_type": "markdown",
   "metadata": {
    "collapsed": true,
    "slideshow": {
     "slide_type": "subslide"
    }
   },
   "source": [
    "  <img align=\"center\" src=\"img/prototipo-04.jpg\", width=600, height=600, style=\" margin-top: 10px\" >"
   ]
  },
  {
   "cell_type": "markdown",
   "metadata": {
    "slideshow": {
     "slide_type": "slide"
    }
   },
   "source": [
    "## Planes a corto plazo"
   ]
  },
  {
   "cell_type": "markdown",
   "metadata": {
    "slideshow": {
     "slide_type": "fragment"
    }
   },
   "source": [
    "* ABM\n",
    "    + *Para titluos.*\n",
    "    + *Procedencias.*\n",
    "    + *Resoluciones.*"
   ]
  },
  {
   "cell_type": "markdown",
   "metadata": {
    "slideshow": {
     "slide_type": "fragment"
    }
   },
   "source": [
    "* Pantalla de carga de puntajes\n",
    "    + *Carga desde un titulo.*\n",
    "    + *Filtros de búsqueda de terna de título por nombre, resolución o procedencia del título.*\n",
    "    + *Filtros de búsqueda de terna de cargo por area, cargo o materia del título.*\n",
    "    + *Carga de concurrencias (relaciones entre títulos).*"
   ]
  },
  {
   "cell_type": "markdown",
   "metadata": {
    "slideshow": {
     "slide_type": "slide"
    }
   },
   "source": [
    "## ¿Preguntas?"
   ]
  }
 ],
 "metadata": {
  "celltoolbar": "Slideshow",
  "kernelspec": {
   "display_name": "Python 2",
   "language": "python",
   "name": "python2"
  },
  "language_info": {
   "codemirror_mode": {
    "name": "ipython",
    "version": 2
   },
   "file_extension": ".py",
   "mimetype": "text/x-python",
   "name": "python",
   "nbconvert_exporter": "python",
   "pygments_lexer": "ipython2",
   "version": "2.7.13"
  }
 },
 "nbformat": 4,
 "nbformat_minor": 0
}
